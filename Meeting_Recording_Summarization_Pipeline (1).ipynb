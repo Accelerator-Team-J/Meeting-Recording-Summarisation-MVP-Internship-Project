{
 "cells": [
  {
   "cell_type": "markdown",
   "id": "c15faaf9",
   "metadata": {},
   "source": [
    "# 🧠 Meeting Recording Summarization Pipeline\n",
    "This notebook demonstrates how to convert meeting videos to summarized text using AWS services."
   ]
  },
  {
   "cell_type": "markdown",
   "id": "74a66906",
   "metadata": {},
   "source": [
    "## Step 1: Extract Audio from Video\n",
    "Use `moviepy` or `ffmpeg` to extract audio from uploaded meeting videos."
   ]
  },
  {
   "cell_type": "code",
   "execution_count": 1,
   "id": "38864046",
   "metadata": {},
   "outputs": [
    {
     "ename": "ModuleNotFoundError",
     "evalue": "No module named 'moviepy'",
     "output_type": "error",
     "traceback": [
      "\u001b[1;31m---------------------------------------------------------------------------\u001b[0m",
      "\u001b[1;31mModuleNotFoundError\u001b[0m                       Traceback (most recent call last)",
      "\u001b[1;32m~\\AppData\\Local\\Temp\\ipykernel_18524\\4238284172.py\u001b[0m in \u001b[0;36m<cell line: 1>\u001b[1;34m()\u001b[0m\n\u001b[1;32m----> 1\u001b[1;33m \u001b[1;32mfrom\u001b[0m \u001b[0mmoviepy\u001b[0m\u001b[1;33m.\u001b[0m\u001b[0meditor\u001b[0m \u001b[1;32mimport\u001b[0m \u001b[0mVideoFileClip\u001b[0m\u001b[1;33m\u001b[0m\u001b[1;33m\u001b[0m\u001b[0m\n\u001b[0m\u001b[0;32m      2\u001b[0m \u001b[1;33m\u001b[0m\u001b[0m\n\u001b[0;32m      3\u001b[0m \u001b[1;32mdef\u001b[0m \u001b[0mextract_audio\u001b[0m\u001b[1;33m(\u001b[0m\u001b[0mvideo_path\u001b[0m\u001b[1;33m,\u001b[0m \u001b[0moutput_audio_path\u001b[0m\u001b[1;33m)\u001b[0m\u001b[1;33m:\u001b[0m\u001b[1;33m\u001b[0m\u001b[1;33m\u001b[0m\u001b[0m\n\u001b[0;32m      4\u001b[0m     \u001b[0mclip\u001b[0m \u001b[1;33m=\u001b[0m \u001b[0mVideoFileClip\u001b[0m\u001b[1;33m(\u001b[0m\u001b[0mvideo_path\u001b[0m\u001b[1;33m)\u001b[0m\u001b[1;33m\u001b[0m\u001b[1;33m\u001b[0m\u001b[0m\n\u001b[0;32m      5\u001b[0m     \u001b[0mclip\u001b[0m\u001b[1;33m.\u001b[0m\u001b[0maudio\u001b[0m\u001b[1;33m.\u001b[0m\u001b[0mwrite_audiofile\u001b[0m\u001b[1;33m(\u001b[0m\u001b[0moutput_audio_path\u001b[0m\u001b[1;33m)\u001b[0m\u001b[1;33m\u001b[0m\u001b[1;33m\u001b[0m\u001b[0m\n",
      "\u001b[1;31mModuleNotFoundError\u001b[0m: No module named 'moviepy'"
     ]
    }
   ],
   "source": [
    "from moviepy.editor import VideoFileClip\n",
    "\n",
    "def extract_audio(video_path, output_audio_path):\n",
    "    clip = VideoFileClip(video_path)\n",
    "    clip.audio.write_audiofile(output_audio_path)\n",
    "\n",
    "# Example usage:\n",
    "# extract_audio('meeting.mp4', 'meeting_audio.wav')"
   ]
  },
  {
   "cell_type": "markdown",
   "id": "ae3c5b3d",
   "metadata": {},
   "source": [
    "## Step 2: Transcribe Audio using AWS Transcribe"
   ]
  },
  {
   "cell_type": "code",
   "execution_count": null,
   "id": "fa19c83f",
   "metadata": {},
   "outputs": [],
   "source": [
    "import boto3\n",
    "\n",
    "def start_transcription_job(job_name, audio_uri, output_bucket):\n",
    "    transcribe = boto3.client('transcribe')\n",
    "    response = transcribe.start_transcription_job(\n",
    "        TranscriptionJobName=job_name,\n",
    "        Media={'MediaFileUri': audio_uri},\n",
    "        MediaFormat='wav',\n",
    "        LanguageCode='en-US',\n",
    "        OutputBucketName=output_bucket\n",
    "    )\n",
    "    return response"
   ]
  },
  {
   "cell_type": "markdown",
   "id": "3dd6d0dd",
   "metadata": {},
   "source": [
    "## Step 3: Summarize Text (Simple example using `transformers`)"
   ]
  },
  {
   "cell_type": "code",
   "execution_count": null,
   "id": "a2c1bd2f",
   "metadata": {},
   "outputs": [],
   "source": [
    "from transformers import pipeline\n",
    "\n",
    "summarizer = pipeline(\"summarization\")\n",
    "\n",
    "def summarize_text(text):\n",
    "    summary = summarizer(text, max_length=130, min_length=30, do_sample=False)\n",
    "    return summary[0]['summary_text']\n",
    "\n",
    "# Example usage:\n",
    "# summarized = summarize_text(long_transcribed_text)"
   ]
  }
 ],
 "metadata": {
  "kernelspec": {
   "display_name": "base",
   "language": "python",
   "name": "python3"
  },
  "language_info": {
   "codemirror_mode": {
    "name": "ipython",
    "version": 3
   },
   "file_extension": ".py",
   "mimetype": "text/x-python",
   "name": "python",
   "nbconvert_exporter": "python",
   "pygments_lexer": "ipython3",
   "version": "3.9.12"
  }
 },
 "nbformat": 4,
 "nbformat_minor": 5
}
