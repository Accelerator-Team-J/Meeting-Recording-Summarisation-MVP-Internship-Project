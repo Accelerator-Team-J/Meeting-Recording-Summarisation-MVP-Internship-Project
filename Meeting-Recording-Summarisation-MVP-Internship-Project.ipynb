# Meeting Recording Summarization Pipeline
This notebook demonstrates how to convert meeting videos to summarized text using AWS services.
## Step 1: Extract Audio from Video
Use `moviepy` or `ffmpeg` to extract audio from uploaded meeting videos.
from moviepy.editor import VideoFileClip

def extract_audio(video_path, output_audio_path):
    clip = VideoFileClip(video_path)
    clip.audio.write_audiofile(output_audio_path)

# Example usage:
# extract_audio('meeting.mp4', 'meeting_audio.wav')
## Step 2: Transcribe Audio using AWS Transcribe
import boto3

def start_transcription_job(job_name, audio_uri, output_bucket):
    transcribe = boto3.client('transcribe')
    response = transcribe.start_transcription_job(
        TranscriptionJobName=job_name,
        Media={'MediaFileUri': audio_uri},
        MediaFormat='wav',
        LanguageCode='en-US',
        OutputBucketName=output_bucket
    )
    return response
## Step 3: Summarize Text (Simple example using `transformers`)
from transformers import pipeline

summarizer = pipeline("summarization")

def summarize_text(text):
    summary = summarizer(text, max_length=130, min_length=30, do_sample=False)
    return summary[0]['summary_text']

# Example usage:
# summarized = summarize_text(long_transcribed_text)
